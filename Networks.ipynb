{
 "cells": [
  {
   "cell_type": "markdown",
   "id": "4df697b6",
   "metadata": {},
   "source": [
    "NET1"
   ]
  },
  {
   "cell_type": "code",
   "execution_count": 1,
   "id": "1d954aed",
   "metadata": {},
   "outputs": [
    {
     "name": "stdout",
     "output_type": "stream",
     "text": [
      "Everything loaded fine ✅\n"
     ]
    }
   ],
   "source": [
    "import torch\n",
    "import torchvision\n",
    "import torchaudio\n",
    "import librosa\n",
    "print(\"Everything loaded fine ✅\")"
   ]
  },
  {
   "cell_type": "code",
   "execution_count": 6,
   "id": "b8ebd41b",
   "metadata": {},
   "outputs": [],
   "source": [
    "from torchvision import transforms, datasets\n",
    "from torch.utils.data import DataLoader, random_split\n",
    "\n",
    "def get_dataloaders(data_dir, batch_size=32):\n",
    "    transform = transforms.Compose([\n",
    "        transforms.Resize((180,180)), # Resize to 180x180 pixels\n",
    "        transforms.ToTensor() # Convert to tensor\n",
    "    ])\n",
    "\n",
    "    dataset = datasets.ImageFolder(root=data_dir, transform=transform)\n",
    "\n",
    "    # Split the dataset into training, validation and test sets (70% train, 20% val, 10% test)\n",
    "    total_length = len(dataset)\n",
    "    train_length = int(0.7 * total_length)\n",
    "    val_length = int(0.2 * total_length)\n",
    "    test_length = total_length - train_length - val_length\n",
    "    train_set, val_set, test_set = random_split(dataset, [train_length, val_length, test_length])\n",
    "\n",
    "    # Create data loaders for each set\n",
    "    train_loader = DataLoader(train_set, batch_size=batch_size, shuffle=True)\n",
    "    val_loader = DataLoader(val_set, batch_size=batch_size, shuffle=False)\n",
    "    test_loader = DataLoader(test_set, batch_size=batch_size, shuffle=False)\n",
    "\n",
    "    return train_loader, val_loader, test_loader"
   ]
  },
  {
   "cell_type": "code",
   "execution_count": null,
   "id": "230691e8",
   "metadata": {},
   "outputs": [
    {
     "name": "stdout",
     "output_type": "stream",
     "text": [
      "Batch of images shape: torch.Size([32, 3, 180, 180])\n",
      "Batch of labels shape: torch.Size([32])\n"
     ]
    }
   ],
   "source": [
    "data_path = \"./Data/images_original\"\n",
    "\n",
    "train_loader, val_loader, test_loader = get_dataloaders(data_path)\n",
    "\n",
    "for images, labels in train_loader:\n",
    "    print(\"Batch of images shape:\", images.shape)  # (batch_size, channels, height, width)\n",
    "    print(\"Batch of labels shape:\", labels.shape)  # (batch_size,)\n",
    "    break  # Just show the first batch"
   ]
  },
  {
   "cell_type": "code",
   "execution_count": 8,
   "id": "34e99e10",
   "metadata": {},
   "outputs": [],
   "source": [
    "import torch\n",
    "import torch.nn as nn\n",
    "import torch.nn.functional as F\n",
    "\n",
    "class Net1(nn.Module):\n",
    "    def __init__(self):\n",
    "        super(Net1, self).__init__()\n",
    "        self.fc1 = nn.Linear(3*180*180, 512)  # Input layer\n",
    "        self.fc2 = nn.Linear(512, 128)  # Hidden layer\n",
    "        self.output = nn.Linear(128, 10)  # Output layer (10 classes)\n",
    "\n",
    "    def forward(self, x):\n",
    "        x = x.view(x.size(0), -1) # Flatten the input\n",
    "        x = F.relu(self.fc1(x)) # Activation function for the first layer\n",
    "        x = F.relu(self.fc2(x)) # Activation function for the second layer\n",
    "        x = self.output(x)\n",
    "        return x"
   ]
  },
  {
   "cell_type": "code",
   "execution_count": 12,
   "id": "cc845ca8",
   "metadata": {},
   "outputs": [],
   "source": [
    "model = Net1()\n",
    "optimizer = torch.optim.Adam(Net1().parameters(), lr=0.001) \n",
    "loss_fn = nn.CrossEntropyLoss()"
   ]
  },
  {
   "cell_type": "code",
   "execution_count": 16,
   "id": "c49cc6c3",
   "metadata": {},
   "outputs": [],
   "source": [
    "def train(model, train_loader, val_loader, optimizer, loss_fn, epochs=50):\n",
    "    for epoch in range(epochs):\n",
    "        model.train()\n",
    "        total_loss = 0\n",
    "\n",
    "        for images, labels in train_loader:\n",
    "            optimizer.zero_grad()\n",
    "            outputs = model(images)\n",
    "            loss = loss_fn(outputs, labels)\n",
    "            loss.backward()\n",
    "            optimizer.step()\n",
    "            total_loss += loss.item()\n",
    "\n",
    "        print(f\"Epoch {epoch+1}/{epochs}, Loss: {total_loss:.4f}\")"
   ]
  },
  {
   "cell_type": "code",
   "execution_count": 17,
   "id": "a0d2a798",
   "metadata": {},
   "outputs": [
    {
     "name": "stdout",
     "output_type": "stream",
     "text": [
      "Epoch 1/50, Loss: 50.7350\n",
      "Epoch 2/50, Loss: 50.7319\n",
      "Epoch 3/50, Loss: 50.7349\n",
      "Epoch 4/50, Loss: 50.7339\n",
      "Epoch 5/50, Loss: 50.7351\n",
      "Epoch 6/50, Loss: 50.7373\n",
      "Epoch 7/50, Loss: 50.7325\n",
      "Epoch 8/50, Loss: 50.7343\n",
      "Epoch 9/50, Loss: 50.7358\n",
      "Epoch 10/50, Loss: 50.7310\n",
      "Epoch 11/50, Loss: 50.7364\n",
      "Epoch 12/50, Loss: 50.7334\n",
      "Epoch 13/50, Loss: 50.7325\n",
      "Epoch 14/50, Loss: 50.7356\n",
      "Epoch 15/50, Loss: 50.7322\n",
      "Epoch 16/50, Loss: 50.7368\n",
      "Epoch 17/50, Loss: 50.7353\n",
      "Epoch 18/50, Loss: 50.7338\n",
      "Epoch 19/50, Loss: 50.7383\n",
      "Epoch 20/50, Loss: 50.7328\n",
      "Epoch 21/50, Loss: 50.7349\n",
      "Epoch 22/50, Loss: 50.7363\n",
      "Epoch 23/50, Loss: 50.7348\n",
      "Epoch 24/50, Loss: 50.7301\n",
      "Epoch 25/50, Loss: 50.7400\n",
      "Epoch 26/50, Loss: 50.7360\n",
      "Epoch 27/50, Loss: 50.7365\n",
      "Epoch 28/50, Loss: 50.7344\n",
      "Epoch 29/50, Loss: 50.7336\n",
      "Epoch 30/50, Loss: 50.7363\n",
      "Epoch 31/50, Loss: 50.7343\n",
      "Epoch 32/50, Loss: 50.7336\n",
      "Epoch 33/50, Loss: 50.7324\n",
      "Epoch 34/50, Loss: 50.7341\n",
      "Epoch 35/50, Loss: 50.7338\n",
      "Epoch 36/50, Loss: 50.7324\n",
      "Epoch 37/50, Loss: 50.7353\n",
      "Epoch 38/50, Loss: 50.7349\n",
      "Epoch 39/50, Loss: 50.7421\n",
      "Epoch 40/50, Loss: 50.7339\n",
      "Epoch 41/50, Loss: 50.7340\n",
      "Epoch 42/50, Loss: 50.7364\n",
      "Epoch 43/50, Loss: 50.7315\n",
      "Epoch 44/50, Loss: 50.7323\n",
      "Epoch 45/50, Loss: 50.7319\n",
      "Epoch 46/50, Loss: 50.7349\n",
      "Epoch 47/50, Loss: 50.7347\n",
      "Epoch 48/50, Loss: 50.7332\n",
      "Epoch 49/50, Loss: 50.7336\n",
      "Epoch 50/50, Loss: 50.7343\n"
     ]
    }
   ],
   "source": [
    "train (model, train_loader, val_loader, optimizer, loss_fn, epochs=50)"
   ]
  },
  {
   "cell_type": "code",
   "execution_count": 18,
   "id": "a89d875d",
   "metadata": {},
   "outputs": [],
   "source": [
    "torch.save(model.state_dict(), \"net1_fully_connected.pth\")"
   ]
  }
 ],
 "metadata": {
  "kernelspec": {
   "display_name": "music-classification",
   "language": "python",
   "name": "python3"
  },
  "language_info": {
   "codemirror_mode": {
    "name": "ipython",
    "version": 3
   },
   "file_extension": ".py",
   "mimetype": "text/x-python",
   "name": "python",
   "nbconvert_exporter": "python",
   "pygments_lexer": "ipython3",
   "version": "3.12.7"
  }
 },
 "nbformat": 4,
 "nbformat_minor": 5
}
