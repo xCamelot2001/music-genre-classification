{
 "cells": [
  {
   "cell_type": "code",
   "execution_count": 70,
   "id": "1d954aed",
   "metadata": {},
   "outputs": [
    {
     "name": "stdout",
     "output_type": "stream",
     "text": [
      "Everything loaded fine ✅\n",
      "Using device: cuda\n"
     ]
    }
   ],
   "source": [
    "import torch\n",
    "import torchvision\n",
    "import torchaudio\n",
    "import librosa\n",
    "print(\"Everything loaded fine ✅\")\n",
    "device = torch.device(\"cuda\" if torch.cuda.is_available() else \"cpu\")\n",
    "print(\"Using device:\", device)"
   ]
  },
  {
   "cell_type": "code",
   "execution_count": 71,
   "id": "b8ebd41b",
   "metadata": {},
   "outputs": [],
   "source": [
    "from torchvision import transforms, datasets\n",
    "from torch.utils.data import DataLoader, random_split\n",
    "\n",
    "def get_dataloaders(data_dir, batch_size=32):\n",
    "    train_transform = transforms.Compose([\n",
    "        transforms.Resize((180, 180)),\n",
    "        transforms.RandomHorizontalFlip(p=0.5),\n",
    "        transforms.RandomVerticalFlip(p=0.2),\n",
    "        transforms.RandomRotation(degrees=30),  # increase rotation\n",
    "        transforms.RandomPerspective(distortion_scale=0.3, p=0.5),  # more distortion\n",
    "        transforms.RandomAffine(degrees=20, translate=(0.15, 0.15), scale=(0.8, 1.2)),  # wider range\n",
    "        transforms.ColorJitter(brightness=0.4, contrast=0.4, saturation=0.4, hue=0.1),\n",
    "        transforms.ToTensor()\n",
    "    ])\n",
    "\n",
    "    test_transform = transforms.Compose([\n",
    "        transforms.Resize((180, 180)),\n",
    "        transforms.ToTensor()\n",
    "    ])\n",
    "\n",
    "    full_dataset = datasets.ImageFolder(root=data_dir)\n",
    "    total_length = len(full_dataset)\n",
    "    train_length = int(0.7 * total_length)\n",
    "    val_length = int(0.2 * total_length)\n",
    "    test_length = total_length - train_length - val_length\n",
    "    train_set, val_set, test_set = random_split(full_dataset, [train_length, val_length, test_length])\n",
    "\n",
    "    # Apply transform separately for each set\n",
    "    train_set.dataset.transform = train_transform\n",
    "    val_set.dataset.transform = test_transform\n",
    "    test_set.dataset.transform = test_transform\n",
    "\n",
    "    train_loader = DataLoader(train_set, batch_size=batch_size, shuffle=True)\n",
    "    val_loader = DataLoader(val_set, batch_size=batch_size, shuffle=False)\n",
    "    test_loader = DataLoader(test_set, batch_size=batch_size, shuffle=False)\n",
    "\n",
    "    return train_loader, val_loader, test_loader"
   ]
  },
  {
   "cell_type": "code",
   "execution_count": 72,
   "id": "230691e8",
   "metadata": {},
   "outputs": [
    {
     "name": "stdout",
     "output_type": "stream",
     "text": [
      "Batch of images shape: torch.Size([32, 3, 180, 180])\n",
      "Batch of labels shape: torch.Size([32])\n",
      "image dtype: torch.float32\n"
     ]
    }
   ],
   "source": [
    "data_path = \"./Data/images_original\"\n",
    "\n",
    "train_loader, val_loader, test_loader = get_dataloaders(data_path)\n",
    "\n",
    "for images, labels in train_loader:\n",
    "    print(\"Batch of images shape:\", images.shape)  # (batch_size, channels, height, width)\n",
    "    print(\"Batch of labels shape:\", labels.shape)  # (batch_size,)\n",
    "    print(\"image dtype:\", images.dtype)  # Should be torch.float32\n",
    "    break  # Just show the first batch"
   ]
  },
  {
   "cell_type": "code",
   "execution_count": 73,
   "id": "c49cc6c3",
   "metadata": {},
   "outputs": [],
   "source": [
    "def train(model, train_loader, val_loader, optimizer, loss_fn, epochs=50):\n",
    "    for epoch in range(epochs):\n",
    "        model.train()\n",
    "        total_loss = 0\n",
    "\n",
    "        for images, labels in train_loader:\n",
    "            images = images.to(device)\n",
    "            labels = labels.to(device)\n",
    "            optimizer.zero_grad()\n",
    "            outputs = model(images)\n",
    "            loss = loss_fn(outputs, labels)\n",
    "            loss.backward()\n",
    "            optimizer.step()\n",
    "            total_loss += loss.item()\n",
    "\n",
    "        print(f\"Epoch {epoch+1}/{epochs}, Loss: {total_loss:.4f}\")"
   ]
  },
  {
   "cell_type": "code",
   "execution_count": 74,
   "id": "a560035f",
   "metadata": {},
   "outputs": [],
   "source": [
    "def evaluate_accuracy(model, data_loader):\n",
    "    model.eval()\n",
    "    total_correct = 0\n",
    "    total = 0\n",
    "    with torch.no_grad():\n",
    "        for images, labels in data_loader:\n",
    "            images = images.to(device)\n",
    "            labels = labels.to(device)\n",
    "            outputs = model(images)\n",
    "            _, preds = torch.max(outputs, 1)\n",
    "            total_correct += (preds == labels).sum().item()\n",
    "            total += labels.size(0)\n",
    "    return total_correct / total"
   ]
  },
  {
   "cell_type": "markdown",
   "id": "4df697b6",
   "metadata": {},
   "source": [
    "# Net1\n"
   ]
  },
  {
   "cell_type": "code",
   "execution_count": null,
   "id": "34e99e10",
   "metadata": {},
   "outputs": [],
   "source": [
    "import torch\n",
    "import torch.nn as nn\n",
    "import torch.nn.functional as F\n",
    "\n",
    "class Net1(nn.Module):\n",
    "    def __init__(self):\n",
    "        super(Net1, self).__init__()\n",
    "        self.fc1 = nn.Linear(3*180*180, 512)  # Input layer\n",
    "        self.fc2 = nn.Linear(512, 128)  # Hidden layer\n",
    "        self.output = nn.Linear(128, 10)  # Output layer (10 classes)\n",
    "\n",
    "    def forward(self, x):\n",
    "        x = x.view(x.size(0), -1) # Flatten the input\n",
    "        x = F.relu(self.fc1(x)) # Activation function for the first layer\n",
    "        x = F.relu(self.fc2(x)) # Activation function for the second layer\n",
    "        x = self.output(x)\n",
    "        return x"
   ]
  },
  {
   "cell_type": "code",
   "execution_count": null,
   "id": "cc845ca8",
   "metadata": {},
   "outputs": [],
   "source": [
    "model = Net1().to(device)\n",
    "optimizer = torch.optim.Adam(model.parameters(), lr=0.001) \n",
    "loss_fn = nn.CrossEntropyLoss()"
   ]
  },
  {
   "cell_type": "code",
   "execution_count": null,
   "id": "a0d2a798",
   "metadata": {},
   "outputs": [],
   "source": [
    "train (model, train_loader, val_loader, optimizer, loss_fn, epochs=50)\n",
    "torch.save(model.state_dict(), \"net1_fully_connected.pth\")"
   ]
  },
  {
   "cell_type": "code",
   "execution_count": null,
   "id": "e2a65a9c",
   "metadata": {},
   "outputs": [],
   "source": [
    "# how to load the model from path\n",
    "model = Net1().to(device)  # Reinitialize the model\n",
    "model.load_state_dict(torch.load(\"net1_fully_connected.pth\"))\n",
    "model.eval()  # Set the model to evaluation mode"
   ]
  },
  {
   "cell_type": "code",
   "execution_count": null,
   "id": "795e72c0",
   "metadata": {},
   "outputs": [],
   "source": [
    "train_acc = evaluate_accuracy(model, train_loader)\n",
    "val_acc = evaluate_accuracy(model, val_loader)\n",
    "test_acc = evaluate_accuracy(model, test_loader)\n",
    "\n",
    "print(f\"✅ Train Acc: {train_acc:.2%}\")\n",
    "print(f\"✅ Val Acc: {val_acc:.2%}\")\n",
    "print(f\"✅ Test Acc: {test_acc:.2%}\")"
   ]
  },
  {
   "cell_type": "markdown",
   "id": "35c7bc4d",
   "metadata": {},
   "source": [
    "# Net2\n"
   ]
  },
  {
   "cell_type": "code",
   "execution_count": 78,
   "id": "2be5fe86",
   "metadata": {},
   "outputs": [],
   "source": [
    "import torch\n",
    "import torch.nn as nn\n",
    "import torch.nn.functional as F\n",
    "\n",
    "class Net2(nn.Module):\n",
    "    def __init__(self):\n",
    "        super(Net2, self).__init__()\n",
    "        self.conv1 = nn.Conv2d(3, 16, kernel_size=3, padding=1)\n",
    "        self.conv2 = nn.Conv2d(16, 16, kernel_size=3, padding=1)\n",
    "        self.pool = nn.MaxPool2d(2, 2)\n",
    "\n",
    "        self.conv3 = nn.Conv2d(16, 32, kernel_size=3, padding=1)\n",
    "        self.conv4 = nn.Conv2d(32, 32, kernel_size=3, padding=1)\n",
    "\n",
    "        self.dropout1 = nn.Dropout(0.3)\n",
    "        self.dropout2 = nn.Dropout(0.5)\n",
    "        \n",
    "        # self.gap = nn.AdaptiveAvgPool2d((1, 1))  # Global Average Pooling\n",
    "        self.fc1 = nn.Linear(32 * 45 * 45, 256)\n",
    "        self.fc2 = nn.Linear(256, 64)\n",
    "        self.out = nn.Linear(64, 10)\n",
    "\n",
    "    def forward(self, x):\n",
    "        x = F.relu(self.conv1(x))\n",
    "        x = F.relu(self.conv2(x))\n",
    "        x = self.pool(x)\n",
    "\n",
    "        x = F.relu(self.conv3(x))\n",
    "        x = F.relu(self.conv4(x))\n",
    "        x = self.pool(x)\n",
    "\n",
    "        # x = self.gap(x)  # Now shape is [B, 32, 1, 1]\n",
    "        x = x.view(x.size(0), -1)  # Flatten to [B, 32]\n",
    "        x = self.dropout1(F.relu(self.fc1(x)))\n",
    "        x = self.dropout2(F.relu(self.fc2(x)))\n",
    "        x = self.out(x)\n",
    "        return x"
   ]
  },
  {
   "cell_type": "code",
   "execution_count": null,
   "id": "8a806ea7",
   "metadata": {},
   "outputs": [
    {
     "name": "stdout",
     "output_type": "stream",
     "text": [
      "Epoch 1/50, Loss: 50.8332\n",
      "Epoch 2/50, Loss: 50.7156\n",
      "Epoch 3/50, Loss: 50.6947\n",
      "Epoch 4/50, Loss: 50.7031\n",
      "Epoch 5/50, Loss: 50.7741\n",
      "Epoch 6/50, Loss: 50.6649\n",
      "Epoch 7/50, Loss: 50.6931\n",
      "Epoch 8/50, Loss: 50.6770\n",
      "Epoch 9/50, Loss: 50.6633\n",
      "Epoch 10/50, Loss: 50.6431\n",
      "Epoch 11/50, Loss: 50.6453\n",
      "Epoch 12/50, Loss: 50.6375\n",
      "Epoch 13/50, Loss: 50.6237\n",
      "Epoch 14/50, Loss: 50.6237\n",
      "Epoch 15/50, Loss: 50.6123\n",
      "Epoch 16/50, Loss: 50.6509\n",
      "Epoch 17/50, Loss: 50.6272\n"
     ]
    },
    {
     "ename": "KeyboardInterrupt",
     "evalue": "",
     "output_type": "error",
     "traceback": [
      "\u001b[31m---------------------------------------------------------------------------\u001b[39m",
      "\u001b[31mKeyboardInterrupt\u001b[39m                         Traceback (most recent call last)",
      "\u001b[36mCell\u001b[39m\u001b[36m \u001b[39m\u001b[32mIn[83]\u001b[39m\u001b[32m, line 5\u001b[39m\n\u001b[32m      3\u001b[39m \u001b[38;5;66;03m# scheduler = torch.optim.lr_scheduler.StepLR(optimizer, step_size=15, gamma=0.5)\u001b[39;00m\n\u001b[32m      4\u001b[39m loss_fn = nn.CrossEntropyLoss()\n\u001b[32m----> \u001b[39m\u001b[32m5\u001b[39m \u001b[43mtrain\u001b[49m\u001b[43m(\u001b[49m\u001b[43mmodel\u001b[49m\u001b[43m,\u001b[49m\u001b[43m \u001b[49m\u001b[43mtrain_loader\u001b[49m\u001b[43m,\u001b[49m\u001b[43m \u001b[49m\u001b[43mval_loader\u001b[49m\u001b[43m,\u001b[49m\u001b[43m \u001b[49m\u001b[43moptimizer\u001b[49m\u001b[43m,\u001b[49m\u001b[43m \u001b[49m\u001b[43mloss_fn\u001b[49m\u001b[43m,\u001b[49m\u001b[43m \u001b[49m\u001b[43mepochs\u001b[49m\u001b[43m=\u001b[49m\u001b[32;43m50\u001b[39;49m\u001b[43m)\u001b[49m\n\u001b[32m      6\u001b[39m torch.save(model.state_dict(), \u001b[33m\"\u001b[39m\u001b[33mnet2_custom_cnn.pth\u001b[39m\u001b[33m\"\u001b[39m)\n",
      "\u001b[36mCell\u001b[39m\u001b[36m \u001b[39m\u001b[32mIn[73]\u001b[39m\u001b[32m, line 14\u001b[39m, in \u001b[36mtrain\u001b[39m\u001b[34m(model, train_loader, val_loader, optimizer, loss_fn, epochs)\u001b[39m\n\u001b[32m     12\u001b[39m     loss.backward()\n\u001b[32m     13\u001b[39m     optimizer.step()\n\u001b[32m---> \u001b[39m\u001b[32m14\u001b[39m     total_loss += \u001b[43mloss\u001b[49m\u001b[43m.\u001b[49m\u001b[43mitem\u001b[49m\u001b[43m(\u001b[49m\u001b[43m)\u001b[49m\n\u001b[32m     16\u001b[39m \u001b[38;5;28mprint\u001b[39m(\u001b[33mf\u001b[39m\u001b[33m\"\u001b[39m\u001b[33mEpoch \u001b[39m\u001b[38;5;132;01m{\u001b[39;00mepoch+\u001b[32m1\u001b[39m\u001b[38;5;132;01m}\u001b[39;00m\u001b[33m/\u001b[39m\u001b[38;5;132;01m{\u001b[39;00mepochs\u001b[38;5;132;01m}\u001b[39;00m\u001b[33m, Loss: \u001b[39m\u001b[38;5;132;01m{\u001b[39;00mtotal_loss\u001b[38;5;132;01m:\u001b[39;00m\u001b[33m.4f\u001b[39m\u001b[38;5;132;01m}\u001b[39;00m\u001b[33m\"\u001b[39m)\n",
      "\u001b[31mKeyboardInterrupt\u001b[39m: "
     ]
    }
   ],
   "source": [
    "model = Net2().to(device)\n",
    "optimizer = torch.optim.Adam(model.parameters(), lr=0.0005, weight_decay=0.003)\n",
    "# scheduler = torch.optim.lr_scheduler.StepLR(optimizer, step_size=15, gamma=0.5)\n",
    "loss_fn = nn.CrossEntropyLoss()\n",
    "train(model, train_loader, val_loader, optimizer, loss_fn, epochs=50)\n",
    "torch.save(model.state_dict(), \"net2_custom_cnn.pth\")"
   ]
  },
  {
   "cell_type": "code",
   "execution_count": 82,
   "id": "56ca08d5",
   "metadata": {},
   "outputs": [
    {
     "name": "stdout",
     "output_type": "stream",
     "text": [
      "✅ Train Acc: 83.55%\n",
      "✅ Val Acc: 39.20%\n",
      "✅ Test Acc: 45.54%\n"
     ]
    }
   ],
   "source": [
    "train_acc = evaluate_accuracy(model, train_loader)\n",
    "val_acc = evaluate_accuracy(model, val_loader)\n",
    "test_acc = evaluate_accuracy(model, test_loader)\n",
    "\n",
    "print(f\"✅ Train Acc: {train_acc:.2%}\")\n",
    "print(f\"✅ Val Acc: {val_acc:.2%}\")\n",
    "print(f\"✅ Test Acc: {test_acc:.2%}\")"
   ]
  },
  {
   "cell_type": "markdown",
   "id": "2e56ae77",
   "metadata": {},
   "source": [
    "# Net3\n"
   ]
  },
  {
   "cell_type": "code",
   "execution_count": null,
   "id": "42a6c836",
   "metadata": {},
   "outputs": [],
   "source": [
    "import torch\n",
    "import torch.nn as nn\n",
    "import torch.nn.functional as F\n",
    "\n",
    "class Net3(nn.Module):\n",
    "    def __init__(self):\n",
    "        super(Net3, self).__init__()\n",
    "        self.conv1 = nn.Conv2d(3, 16, kernel_size=3, padding=1)\n",
    "        self.bn1 = nn.BatchNorm2d(16)\n",
    "        self.conv2 = nn.Conv2d(16, 16, kernel_size=3, padding=1)\n",
    "        self.bn2 = nn.BatchNorm2d(16)\n",
    "        self.pool = nn.MaxPool2d(2, 2)\n",
    "\n",
    "        self.conv3 = nn.Conv2d(16, 32, kernel_size=3, padding=1)\n",
    "        self.bn3 = nn.BatchNorm2d(32)\n",
    "        self.conv4 = nn.Conv2d(32, 32, kernel_size=3, padding=1)\n",
    "        self.bn4 = nn.BatchNorm2d(32)\n",
    "\n",
    "        self.fc1 = nn.Linear(32 * 44 * 44, 256)\n",
    "        self.bn_fc1 = nn.BatchNorm1d(256)\n",
    "        self.fc2 = nn.Linear(256, 64)\n",
    "        self.bn_fc2 = nn.BatchNorm1d(64)\n",
    "        self.out = nn.Linear(64, 10)\n",
    "        self.dropout = nn.Dropout(0.3)\n",
    "\n",
    "    def forward(self, x):\n",
    "        x = F.relu(self.bn1(self.conv1(x)))\n",
    "        x = F.relu(self.bn2(self.conv2(x)))\n",
    "        x = self.pool(x)\n",
    "\n",
    "        x = F.relu(self.bn3(self.conv3(x)))\n",
    "        x = F.relu(self.bn4(self.conv4(x)))\n",
    "        x = self.pool(x)\n",
    "\n",
    "        x = x.view(x.size(0), -1)\n",
    "        x = self.dropout(F.relu(self.bn_fc1(self.fc1(x))))\n",
    "        x = self.dropout(F.relu(self.bn_fc2(self.fc2(x))))\n",
    "        x = self.out(x)\n",
    "        return x\n",
    "\n"
   ]
  },
  {
   "cell_type": "code",
   "execution_count": null,
   "id": "a8d254e8",
   "metadata": {},
   "outputs": [],
   "source": [
    "model = Net3().to(device)\n",
    "optimizer = torch.optim.Adam(model.parameters(), lr=0.001, weight_decay=1e-5)\n",
    "loss_fn = nn.CrossEntropyLoss()\n",
    "train(model, train_loader, val_loader, optimizer, loss_fn, epochs=50)\n",
    "torch.save(model.state_dict(), \"net3_cnn_bn.pth\")"
   ]
  },
  {
   "cell_type": "code",
   "execution_count": null,
   "id": "017cc9f0",
   "metadata": {},
   "outputs": [],
   "source": [
    "train_acc = evaluate_accuracy(model, train_loader)\n",
    "val_acc = evaluate_accuracy(model, val_loader)\n",
    "test_acc = evaluate_accuracy(model, test_loader)\n",
    "\n",
    "print(f\"✅ Train Acc: {train_acc:.2%}\")\n",
    "print(f\"✅ Val Acc: {val_acc:.2%}\")\n",
    "print(f\"✅ Test Acc: {test_acc:.2%}\")"
   ]
  },
  {
   "cell_type": "markdown",
   "id": "2ffc185f",
   "metadata": {},
   "source": [
    "# Net4\n"
   ]
  },
  {
   "cell_type": "code",
   "execution_count": null,
   "id": "6f09036f",
   "metadata": {},
   "outputs": [],
   "source": [
    "model = Net3()  # CNN with 4 conv layers + BatchNorm\n",
    "optimizer = torch.optim.RMSprop(model.parameters(), lr=0.001)\n",
    "loss_fn = nn.CrossEntropyLoss()\n",
    "train(model, train_loader, val_loader, optimizer, loss_fn, epochs=50)\n",
    "torch.save(model.state_dict(), \"net4_cnn_bn_rmsprop.pth\")"
   ]
  }
 ],
 "metadata": {
  "kernelspec": {
   "display_name": "music-classification",
   "language": "python",
   "name": "python3"
  },
  "language_info": {
   "codemirror_mode": {
    "name": "ipython",
    "version": 3
   },
   "file_extension": ".py",
   "mimetype": "text/x-python",
   "name": "python",
   "nbconvert_exporter": "python",
   "pygments_lexer": "ipython3",
   "version": "3.12.7"
  }
 },
 "nbformat": 4,
 "nbformat_minor": 5
}
