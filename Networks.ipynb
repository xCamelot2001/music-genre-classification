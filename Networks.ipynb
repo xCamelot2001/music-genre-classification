{
 "cells": [
  {
   "cell_type": "markdown",
   "id": "4df697b6",
   "metadata": {},
   "source": [
    "Net1\n"
   ]
  },
  {
   "cell_type": "code",
   "execution_count": 6,
   "id": "1d954aed",
   "metadata": {},
   "outputs": [
    {
     "name": "stdout",
     "output_type": "stream",
     "text": [
      "Everything loaded fine ✅\n"
     ]
    }
   ],
   "source": [
    "import torch\n",
    "import torchvision\n",
    "import torchaudio\n",
    "import librosa\n",
    "print(\"Everything loaded fine ✅\")"
   ]
  },
  {
   "cell_type": "code",
   "execution_count": 7,
   "id": "b8ebd41b",
   "metadata": {},
   "outputs": [],
   "source": [
    "from torchvision import transforms, datasets\n",
    "from torch.utils.data import DataLoader, random_split\n",
    "\n",
    "def get_dataloaders(data_dir, batch_size=32):\n",
    "    transform = transforms.Compose([\n",
    "        transforms.Resize((180,180)), # Resize to 180x180 pixels\n",
    "        transforms.ToTensor() # Convert to tensor\n",
    "    ])\n",
    "\n",
    "    dataset = datasets.ImageFolder(root=data_dir, transform=transform)\n",
    "\n",
    "    # Split the dataset into training, validation and test sets (70% train, 20% val, 10% test)\n",
    "    total_length = len(dataset)\n",
    "    train_length = int(0.7 * total_length)\n",
    "    val_length = int(0.2 * total_length)\n",
    "    test_length = total_length - train_length - val_length\n",
    "    train_set, val_set, test_set = random_split(dataset, [train_length, val_length, test_length])\n",
    "\n",
    "    # Create data loaders for each set\n",
    "    train_loader = DataLoader(train_set, batch_size=batch_size, shuffle=True)\n",
    "    val_loader = DataLoader(val_set, batch_size=batch_size, shuffle=False)\n",
    "    test_loader = DataLoader(test_set, batch_size=batch_size, shuffle=False)\n",
    "\n",
    "    return train_loader, val_loader, test_loader"
   ]
  },
  {
   "cell_type": "code",
   "execution_count": 14,
   "id": "230691e8",
   "metadata": {},
   "outputs": [
    {
     "name": "stdout",
     "output_type": "stream",
     "text": [
      "Batch of images shape: torch.Size([32, 3, 180, 180])\n",
      "Batch of labels shape: torch.Size([32])\n",
      "image dtype: torch.float32\n"
     ]
    }
   ],
   "source": [
    "data_path = \"./Data/images_original\"\n",
    "\n",
    "train_loader, val_loader, test_loader = get_dataloaders(data_path)\n",
    "\n",
    "for images, labels in train_loader:\n",
    "    print(\"Batch of images shape:\", images.shape)  # (batch_size, channels, height, width)\n",
    "    print(\"Batch of labels shape:\", labels.shape)  # (batch_size,)\n",
    "    print(\"image dtype:\", images.dtype)  # Should be torch.float32\n",
    "    break  # Just show the first batch"
   ]
  },
  {
   "cell_type": "code",
   "execution_count": 15,
   "id": "34e99e10",
   "metadata": {},
   "outputs": [],
   "source": [
    "import torch\n",
    "import torch.nn as nn\n",
    "import torch.nn.functional as F\n",
    "\n",
    "class Net1(nn.Module):\n",
    "    def __init__(self):\n",
    "        super(Net1, self).__init__()\n",
    "        self.fc1 = nn.Linear(3*180*180, 512)  # Input layer\n",
    "        self.fc2 = nn.Linear(512, 128)  # Hidden layer\n",
    "        self.output = nn.Linear(128, 10)  # Output layer (10 classes)\n",
    "\n",
    "    def forward(self, x):\n",
    "        x = x.view(x.size(0), -1) # Flatten the input\n",
    "        x = F.relu(self.fc1(x)) # Activation function for the first layer\n",
    "        x = F.relu(self.fc2(x)) # Activation function for the second layer\n",
    "        x = self.output(x)\n",
    "        return x"
   ]
  },
  {
   "cell_type": "code",
   "execution_count": 16,
   "id": "cc845ca8",
   "metadata": {},
   "outputs": [],
   "source": [
    "model = Net1()\n",
    "optimizer = torch.optim.Adam(model.parameters(), lr=0.001) \n",
    "loss_fn = nn.CrossEntropyLoss()"
   ]
  },
  {
   "cell_type": "code",
   "execution_count": 17,
   "id": "c49cc6c3",
   "metadata": {},
   "outputs": [],
   "source": [
    "def train(model, train_loader, val_loader, optimizer, loss_fn, epochs=50):\n",
    "    for epoch in range(epochs):\n",
    "        model.train()\n",
    "        total_loss = 0\n",
    "\n",
    "        for images, labels in train_loader:\n",
    "            optimizer.zero_grad()\n",
    "            outputs = model(images)\n",
    "            loss = loss_fn(outputs, labels)\n",
    "            loss.backward()\n",
    "            optimizer.step()\n",
    "            total_loss += loss.item()\n",
    "\n",
    "        print(f\"Epoch {epoch+1}/{epochs}, Loss: {total_loss:.4f}\")"
   ]
  },
  {
   "cell_type": "code",
   "execution_count": 18,
   "id": "a0d2a798",
   "metadata": {},
   "outputs": [
    {
     "name": "stdout",
     "output_type": "stream",
     "text": [
      "Epoch 1/50, Loss: 208.0826\n",
      "Epoch 2/50, Loss: 54.0659\n",
      "Epoch 3/50, Loss: 45.8908\n",
      "Epoch 4/50, Loss: 45.2979\n",
      "Epoch 5/50, Loss: 42.0981\n",
      "Epoch 6/50, Loss: 42.7955\n",
      "Epoch 7/50, Loss: 38.3343\n",
      "Epoch 8/50, Loss: 38.2002\n",
      "Epoch 9/50, Loss: 37.5623\n",
      "Epoch 10/50, Loss: 33.9468\n",
      "Epoch 11/50, Loss: 35.1454\n",
      "Epoch 12/50, Loss: 33.9222\n",
      "Epoch 13/50, Loss: 33.0339\n",
      "Epoch 14/50, Loss: 30.2270\n",
      "Epoch 15/50, Loss: 28.5967\n",
      "Epoch 16/50, Loss: 29.2423\n",
      "Epoch 17/50, Loss: 26.2354\n",
      "Epoch 18/50, Loss: 25.5730\n",
      "Epoch 19/50, Loss: 24.0937\n",
      "Epoch 20/50, Loss: 23.6947\n",
      "Epoch 21/50, Loss: 22.7962\n",
      "Epoch 22/50, Loss: 20.0588\n",
      "Epoch 23/50, Loss: 18.1404\n",
      "Epoch 24/50, Loss: 17.2349\n",
      "Epoch 25/50, Loss: 21.2168\n",
      "Epoch 26/50, Loss: 20.1062\n",
      "Epoch 27/50, Loss: 18.9440\n",
      "Epoch 28/50, Loss: 24.6866\n",
      "Epoch 29/50, Loss: 16.1873\n",
      "Epoch 30/50, Loss: 15.0658\n",
      "Epoch 31/50, Loss: 10.7541\n",
      "Epoch 32/50, Loss: 10.1577\n",
      "Epoch 33/50, Loss: 9.1291\n",
      "Epoch 34/50, Loss: 9.0246\n",
      "Epoch 35/50, Loss: 12.4966\n",
      "Epoch 36/50, Loss: 12.0020\n",
      "Epoch 37/50, Loss: 9.4585\n",
      "Epoch 38/50, Loss: 8.4494\n",
      "Epoch 39/50, Loss: 7.0948\n",
      "Epoch 40/50, Loss: 5.9686\n",
      "Epoch 41/50, Loss: 5.8635\n",
      "Epoch 42/50, Loss: 4.1313\n",
      "Epoch 43/50, Loss: 4.1500\n",
      "Epoch 44/50, Loss: 4.7021\n",
      "Epoch 45/50, Loss: 3.4708\n",
      "Epoch 46/50, Loss: 4.0545\n",
      "Epoch 47/50, Loss: 3.6293\n",
      "Epoch 48/50, Loss: 4.1215\n",
      "Epoch 49/50, Loss: 4.1875\n",
      "Epoch 50/50, Loss: 2.5603\n"
     ]
    }
   ],
   "source": [
    "train (model, train_loader, val_loader, optimizer, loss_fn, epochs=50)\n",
    "torch.save(model.state_dict(), \"net1_fully_connected.pth\")"
   ]
  },
  {
   "cell_type": "code",
   "execution_count": 19,
   "id": "a560035f",
   "metadata": {},
   "outputs": [],
   "source": [
    "def evaluate_accuracy(model, data_loader):\n",
    "    model.eval()\n",
    "    total_correct = 0\n",
    "    total = 0\n",
    "    with torch.no_grad():\n",
    "        for images, labels in data_loader:\n",
    "            outputs = model(images)\n",
    "            _, preds = torch.max(outputs, 1)\n",
    "            total_correct += (preds == labels).sum().item()\n",
    "            total += labels.size(0)\n",
    "    return total_correct / total"
   ]
  },
  {
   "cell_type": "code",
   "execution_count": null,
   "id": "795e72c0",
   "metadata": {},
   "outputs": [],
   "source": [
    "train_acc = evaluate_accuracy(model, train_loader)\n",
    "val_acc = evaluate_accuracy(model, val_loader)\n",
    "test_acc = evaluate_accuracy(model, test_loader)\n",
    "\n",
    "print(f\"✅ Train Acc: {train_acc:.2%}\")\n",
    "print(f\"✅ Val Acc: {val_acc:.2%}\")\n",
    "print(f\"✅ Test Acc: {test_acc:.2%}\")"
   ]
  },
  {
   "cell_type": "markdown",
   "id": "35c7bc4d",
   "metadata": {},
   "source": [
    "Net2\n"
   ]
  },
  {
   "cell_type": "code",
   "execution_count": 11,
   "id": "2be5fe86",
   "metadata": {},
   "outputs": [],
   "source": [
    "import torch\n",
    "import torch.nn as nn\n",
    "import torch.nn.functional as F\n",
    "\n",
    "class Net2(nn.Module):\n",
    "    def __init__(self):\n",
    "        super(Net2, self).__init__()\n",
    "\n",
    "        self.conv1 = nn.Conv2d(3, 16, kernel_size=3, padding=1)  # [B, 3, 180, 180] → [B, 16, 180, 180]\n",
    "        self.pool = nn.MaxPool2d(2, 2)                           # → [B, 16, 90, 90]\n",
    "        self.conv2 = nn.Conv2d(16, 32, kernel_size=3, padding=1)  # → [B, 32, 90, 90] → pool → [B, 32, 45, 45]\n",
    "\n",
    "        self.fc1 = nn.Linear(32 * 45 * 45, 256)\n",
    "        self.fc2 = nn.Linear(256, 64)\n",
    "        self.out = nn.Linear(64, 10)\n",
    "\n",
    "    def forward(self, x):\n",
    "        x = self.pool(F.relu(self.conv1(x)))  # Conv1 + ReLU + MaxPool\n",
    "        x = self.pool(F.relu(self.conv2(x)))  # Conv2 + ReLU + MaxPool\n",
    "        x = x.view(x.size(0), -1)             # Flatten\n",
    "        x = F.relu(self.fc1(x))\n",
    "        x = F.relu(self.fc2(x))\n",
    "        x = self.out(x)                       # Output logits\n",
    "        return x\n"
   ]
  },
  {
   "cell_type": "code",
   "execution_count": 12,
   "id": "8a806ea7",
   "metadata": {},
   "outputs": [],
   "source": [
    "model = Net2()\n",
    "optimizer = torch.optim.Adam(model.parameters(), lr=0.001)\n",
    "loss_fn = nn.CrossEntropyLoss()"
   ]
  },
  {
   "cell_type": "code",
   "execution_count": 13,
   "id": "11c40038",
   "metadata": {},
   "outputs": [
    {
     "name": "stdout",
     "output_type": "stream",
     "text": [
      "Epoch 1/50, Loss: 51.6608\n",
      "Epoch 2/50, Loss: 47.4494\n",
      "Epoch 3/50, Loss: 44.2544\n",
      "Epoch 4/50, Loss: 41.3189\n",
      "Epoch 5/50, Loss: 37.0602\n",
      "Epoch 6/50, Loss: 33.2790\n",
      "Epoch 7/50, Loss: 31.1709\n",
      "Epoch 8/50, Loss: 28.0125\n",
      "Epoch 9/50, Loss: 25.6820\n",
      "Epoch 10/50, Loss: 22.9186\n",
      "Epoch 11/50, Loss: 19.2013\n",
      "Epoch 12/50, Loss: 18.6537\n",
      "Epoch 13/50, Loss: 14.3975\n",
      "Epoch 14/50, Loss: 11.3282\n",
      "Epoch 15/50, Loss: 9.5058\n",
      "Epoch 16/50, Loss: 7.1694\n",
      "Epoch 17/50, Loss: 4.7678\n",
      "Epoch 18/50, Loss: 4.5256\n",
      "Epoch 19/50, Loss: 3.1985\n",
      "Epoch 20/50, Loss: 2.0553\n",
      "Epoch 21/50, Loss: 1.4880\n",
      "Epoch 22/50, Loss: 1.2017\n",
      "Epoch 23/50, Loss: 1.0376\n",
      "Epoch 24/50, Loss: 0.8014\n",
      "Epoch 25/50, Loss: 0.8899\n",
      "Epoch 26/50, Loss: 0.7571\n",
      "Epoch 27/50, Loss: 0.4422\n",
      "Epoch 28/50, Loss: 0.3731\n",
      "Epoch 29/50, Loss: 0.4156\n",
      "Epoch 30/50, Loss: 0.2498\n",
      "Epoch 31/50, Loss: 0.1587\n",
      "Epoch 32/50, Loss: 0.2204\n",
      "Epoch 33/50, Loss: 0.6505\n",
      "Epoch 34/50, Loss: 0.3357\n",
      "Epoch 35/50, Loss: 0.2208\n",
      "Epoch 36/50, Loss: 0.4677\n",
      "Epoch 37/50, Loss: 0.3445\n",
      "Epoch 38/50, Loss: 0.3351\n",
      "Epoch 39/50, Loss: 0.1797\n",
      "Epoch 40/50, Loss: 0.1573\n",
      "Epoch 41/50, Loss: 0.1453\n",
      "Epoch 42/50, Loss: 0.1316\n",
      "Epoch 43/50, Loss: 0.4100\n",
      "Epoch 44/50, Loss: 0.2466\n",
      "Epoch 45/50, Loss: 0.1686\n",
      "Epoch 46/50, Loss: 0.2325\n",
      "Epoch 47/50, Loss: 0.1672\n",
      "Epoch 48/50, Loss: 0.2793\n",
      "Epoch 49/50, Loss: 0.1785\n",
      "Epoch 50/50, Loss: 0.1461\n"
     ]
    }
   ],
   "source": [
    "train(model, train_loader, val_loader, optimizer, loss_fn, epochs=50)\n",
    "torch.save(model.state_dict(), \"net2_cnn.pth\")"
   ]
  },
  {
   "cell_type": "code",
   "execution_count": null,
   "id": "56ca08d5",
   "metadata": {},
   "outputs": [],
   "source": [
    "train_acc = evaluate_accuracy(model, train_loader)\n",
    "val_acc = evaluate_accuracy(model, val_loader)\n",
    "test_acc = evaluate_accuracy(model, test_loader)\n",
    "\n",
    "print(f\"✅ Train Acc: {train_acc:.2%}\")\n",
    "print(f\"✅ Val Acc: {val_acc:.2%}\")\n",
    "print(f\"✅ Test Acc: {test_acc:.2%}\")"
   ]
  },
  {
   "cell_type": "markdown",
   "id": "2e56ae77",
   "metadata": {},
   "source": [
    "Net3\n"
   ]
  },
  {
   "cell_type": "code",
   "execution_count": 20,
   "id": "42a6c836",
   "metadata": {},
   "outputs": [],
   "source": [
    "import torch\n",
    "import torch.nn as nn\n",
    "import torch.nn.functional as F\n",
    "\n",
    "class Net3(nn.Module):  # CNN with 4 convs and batchnorm\n",
    "    def __init__(self):\n",
    "        super(Net3, self).__init__()\n",
    "        \n",
    "        self.conv1 = nn.Conv2d(3, 16, kernel_size=3, padding=1)\n",
    "        self.bn1 = nn.BatchNorm2d(16)\n",
    "        \n",
    "        self.conv2 = nn.Conv2d(16, 32, kernel_size=3, padding=1)\n",
    "        self.bn2 = nn.BatchNorm2d(32)\n",
    "        \n",
    "        self.pool1 = nn.MaxPool2d(2, 2)  # After conv2\n",
    "\n",
    "        self.conv3 = nn.Conv2d(32, 64, kernel_size=3, padding=1)\n",
    "        self.bn3 = nn.BatchNorm2d(64)\n",
    "        \n",
    "        self.conv4 = nn.Conv2d(64, 128, kernel_size=3, padding=1)\n",
    "        self.bn4 = nn.BatchNorm2d(128)\n",
    "        \n",
    "        self.pool2 = nn.MaxPool2d(2, 2)  # After conv4\n",
    "\n",
    "        # Output shape after pool2 = [B, 128, 45, 45] → flatten\n",
    "        self.fc1 = nn.Linear(128 * 45 * 45, 256)\n",
    "        self.fc2 = nn.Linear(256, 10)\n",
    "\n",
    "    def forward(self, x):\n",
    "        x = F.relu(self.bn1(self.conv1(x)))\n",
    "        x = F.relu(self.bn2(self.conv2(x)))\n",
    "        x = self.pool1(x)\n",
    "        \n",
    "        x = F.relu(self.bn3(self.conv3(x)))\n",
    "        x = F.relu(self.bn4(self.conv4(x)))\n",
    "        x = self.pool2(x)\n",
    "        \n",
    "        x = x.view(x.size(0), -1)  # Flatten\n",
    "        x = F.relu(self.fc1(x))\n",
    "        x = self.fc2(x)\n",
    "        return x"
   ]
  },
  {
   "cell_type": "code",
   "execution_count": 21,
   "id": "a8d254e8",
   "metadata": {},
   "outputs": [
    {
     "name": "stdout",
     "output_type": "stream",
     "text": [
      "Epoch 1/50, Loss: 1248.8341\n"
     ]
    },
    {
     "ename": "KeyboardInterrupt",
     "evalue": "",
     "output_type": "error",
     "traceback": [
      "\u001b[31m---------------------------------------------------------------------------\u001b[39m",
      "\u001b[31mKeyboardInterrupt\u001b[39m                         Traceback (most recent call last)",
      "\u001b[36mCell\u001b[39m\u001b[36m \u001b[39m\u001b[32mIn[21]\u001b[39m\u001b[32m, line 5\u001b[39m\n\u001b[32m      2\u001b[39m optimizer = torch.optim.Adam(model.parameters(), lr=\u001b[32m0.001\u001b[39m)\n\u001b[32m      3\u001b[39m loss_fn = nn.CrossEntropyLoss()\n\u001b[32m----> \u001b[39m\u001b[32m5\u001b[39m \u001b[43mtrain\u001b[49m\u001b[43m(\u001b[49m\u001b[43mmodel\u001b[49m\u001b[43m,\u001b[49m\u001b[43m \u001b[49m\u001b[43mtrain_loader\u001b[49m\u001b[43m,\u001b[49m\u001b[43m \u001b[49m\u001b[43mval_loader\u001b[49m\u001b[43m,\u001b[49m\u001b[43m \u001b[49m\u001b[43moptimizer\u001b[49m\u001b[43m,\u001b[49m\u001b[43m \u001b[49m\u001b[43mloss_fn\u001b[49m\u001b[43m,\u001b[49m\u001b[43m \u001b[49m\u001b[43mepochs\u001b[49m\u001b[43m=\u001b[49m\u001b[32;43m50\u001b[39;49m\u001b[43m)\u001b[49m\n",
      "\u001b[36mCell\u001b[39m\u001b[36m \u001b[39m\u001b[32mIn[17]\u001b[39m\u001b[32m, line 8\u001b[39m, in \u001b[36mtrain\u001b[39m\u001b[34m(model, train_loader, val_loader, optimizer, loss_fn, epochs)\u001b[39m\n\u001b[32m      6\u001b[39m \u001b[38;5;28;01mfor\u001b[39;00m images, labels \u001b[38;5;129;01min\u001b[39;00m train_loader:\n\u001b[32m      7\u001b[39m     optimizer.zero_grad()\n\u001b[32m----> \u001b[39m\u001b[32m8\u001b[39m     outputs = \u001b[43mmodel\u001b[49m\u001b[43m(\u001b[49m\u001b[43mimages\u001b[49m\u001b[43m)\u001b[49m\n\u001b[32m      9\u001b[39m     loss = loss_fn(outputs, labels)\n\u001b[32m     10\u001b[39m     loss.backward()\n",
      "\u001b[36mFile \u001b[39m\u001b[32mc:\\Users\\User\\Desktop\\DLT-1st-Cw\\music-classification\\Lib\\site-packages\\torch\\nn\\modules\\module.py:1739\u001b[39m, in \u001b[36mModule._wrapped_call_impl\u001b[39m\u001b[34m(self, *args, **kwargs)\u001b[39m\n\u001b[32m   1737\u001b[39m     \u001b[38;5;28;01mreturn\u001b[39;00m \u001b[38;5;28mself\u001b[39m._compiled_call_impl(*args, **kwargs)  \u001b[38;5;66;03m# type: ignore[misc]\u001b[39;00m\n\u001b[32m   1738\u001b[39m \u001b[38;5;28;01melse\u001b[39;00m:\n\u001b[32m-> \u001b[39m\u001b[32m1739\u001b[39m     \u001b[38;5;28;01mreturn\u001b[39;00m \u001b[38;5;28;43mself\u001b[39;49m\u001b[43m.\u001b[49m\u001b[43m_call_impl\u001b[49m\u001b[43m(\u001b[49m\u001b[43m*\u001b[49m\u001b[43margs\u001b[49m\u001b[43m,\u001b[49m\u001b[43m \u001b[49m\u001b[43m*\u001b[49m\u001b[43m*\u001b[49m\u001b[43mkwargs\u001b[49m\u001b[43m)\u001b[49m\n",
      "\u001b[36mFile \u001b[39m\u001b[32mc:\\Users\\User\\Desktop\\DLT-1st-Cw\\music-classification\\Lib\\site-packages\\torch\\nn\\modules\\module.py:1750\u001b[39m, in \u001b[36mModule._call_impl\u001b[39m\u001b[34m(self, *args, **kwargs)\u001b[39m\n\u001b[32m   1745\u001b[39m \u001b[38;5;66;03m# If we don't have any hooks, we want to skip the rest of the logic in\u001b[39;00m\n\u001b[32m   1746\u001b[39m \u001b[38;5;66;03m# this function, and just call forward.\u001b[39;00m\n\u001b[32m   1747\u001b[39m \u001b[38;5;28;01mif\u001b[39;00m \u001b[38;5;129;01mnot\u001b[39;00m (\u001b[38;5;28mself\u001b[39m._backward_hooks \u001b[38;5;129;01mor\u001b[39;00m \u001b[38;5;28mself\u001b[39m._backward_pre_hooks \u001b[38;5;129;01mor\u001b[39;00m \u001b[38;5;28mself\u001b[39m._forward_hooks \u001b[38;5;129;01mor\u001b[39;00m \u001b[38;5;28mself\u001b[39m._forward_pre_hooks\n\u001b[32m   1748\u001b[39m         \u001b[38;5;129;01mor\u001b[39;00m _global_backward_pre_hooks \u001b[38;5;129;01mor\u001b[39;00m _global_backward_hooks\n\u001b[32m   1749\u001b[39m         \u001b[38;5;129;01mor\u001b[39;00m _global_forward_hooks \u001b[38;5;129;01mor\u001b[39;00m _global_forward_pre_hooks):\n\u001b[32m-> \u001b[39m\u001b[32m1750\u001b[39m     \u001b[38;5;28;01mreturn\u001b[39;00m \u001b[43mforward_call\u001b[49m\u001b[43m(\u001b[49m\u001b[43m*\u001b[49m\u001b[43margs\u001b[49m\u001b[43m,\u001b[49m\u001b[43m \u001b[49m\u001b[43m*\u001b[49m\u001b[43m*\u001b[49m\u001b[43mkwargs\u001b[49m\u001b[43m)\u001b[49m\n\u001b[32m   1752\u001b[39m result = \u001b[38;5;28;01mNone\u001b[39;00m\n\u001b[32m   1753\u001b[39m called_always_called_hooks = \u001b[38;5;28mset\u001b[39m()\n",
      "\u001b[36mCell\u001b[39m\u001b[36m \u001b[39m\u001b[32mIn[20]\u001b[39m\u001b[32m, line 34\u001b[39m, in \u001b[36mNet3.forward\u001b[39m\u001b[34m(self, x)\u001b[39m\n\u001b[32m     31\u001b[39m x = F.relu(\u001b[38;5;28mself\u001b[39m.bn2(\u001b[38;5;28mself\u001b[39m.conv2(x)))\n\u001b[32m     32\u001b[39m x = \u001b[38;5;28mself\u001b[39m.pool1(x)\n\u001b[32m---> \u001b[39m\u001b[32m34\u001b[39m x = F.relu(\u001b[38;5;28mself\u001b[39m.bn3(\u001b[38;5;28;43mself\u001b[39;49m\u001b[43m.\u001b[49m\u001b[43mconv3\u001b[49m\u001b[43m(\u001b[49m\u001b[43mx\u001b[49m\u001b[43m)\u001b[49m))\n\u001b[32m     35\u001b[39m x = F.relu(\u001b[38;5;28mself\u001b[39m.bn4(\u001b[38;5;28mself\u001b[39m.conv4(x)))\n\u001b[32m     36\u001b[39m x = \u001b[38;5;28mself\u001b[39m.pool2(x)\n",
      "\u001b[36mFile \u001b[39m\u001b[32mc:\\Users\\User\\Desktop\\DLT-1st-Cw\\music-classification\\Lib\\site-packages\\torch\\nn\\modules\\module.py:1739\u001b[39m, in \u001b[36mModule._wrapped_call_impl\u001b[39m\u001b[34m(self, *args, **kwargs)\u001b[39m\n\u001b[32m   1737\u001b[39m     \u001b[38;5;28;01mreturn\u001b[39;00m \u001b[38;5;28mself\u001b[39m._compiled_call_impl(*args, **kwargs)  \u001b[38;5;66;03m# type: ignore[misc]\u001b[39;00m\n\u001b[32m   1738\u001b[39m \u001b[38;5;28;01melse\u001b[39;00m:\n\u001b[32m-> \u001b[39m\u001b[32m1739\u001b[39m     \u001b[38;5;28;01mreturn\u001b[39;00m \u001b[38;5;28;43mself\u001b[39;49m\u001b[43m.\u001b[49m\u001b[43m_call_impl\u001b[49m\u001b[43m(\u001b[49m\u001b[43m*\u001b[49m\u001b[43margs\u001b[49m\u001b[43m,\u001b[49m\u001b[43m \u001b[49m\u001b[43m*\u001b[49m\u001b[43m*\u001b[49m\u001b[43mkwargs\u001b[49m\u001b[43m)\u001b[49m\n",
      "\u001b[36mFile \u001b[39m\u001b[32mc:\\Users\\User\\Desktop\\DLT-1st-Cw\\music-classification\\Lib\\site-packages\\torch\\nn\\modules\\module.py:1750\u001b[39m, in \u001b[36mModule._call_impl\u001b[39m\u001b[34m(self, *args, **kwargs)\u001b[39m\n\u001b[32m   1745\u001b[39m \u001b[38;5;66;03m# If we don't have any hooks, we want to skip the rest of the logic in\u001b[39;00m\n\u001b[32m   1746\u001b[39m \u001b[38;5;66;03m# this function, and just call forward.\u001b[39;00m\n\u001b[32m   1747\u001b[39m \u001b[38;5;28;01mif\u001b[39;00m \u001b[38;5;129;01mnot\u001b[39;00m (\u001b[38;5;28mself\u001b[39m._backward_hooks \u001b[38;5;129;01mor\u001b[39;00m \u001b[38;5;28mself\u001b[39m._backward_pre_hooks \u001b[38;5;129;01mor\u001b[39;00m \u001b[38;5;28mself\u001b[39m._forward_hooks \u001b[38;5;129;01mor\u001b[39;00m \u001b[38;5;28mself\u001b[39m._forward_pre_hooks\n\u001b[32m   1748\u001b[39m         \u001b[38;5;129;01mor\u001b[39;00m _global_backward_pre_hooks \u001b[38;5;129;01mor\u001b[39;00m _global_backward_hooks\n\u001b[32m   1749\u001b[39m         \u001b[38;5;129;01mor\u001b[39;00m _global_forward_hooks \u001b[38;5;129;01mor\u001b[39;00m _global_forward_pre_hooks):\n\u001b[32m-> \u001b[39m\u001b[32m1750\u001b[39m     \u001b[38;5;28;01mreturn\u001b[39;00m \u001b[43mforward_call\u001b[49m\u001b[43m(\u001b[49m\u001b[43m*\u001b[49m\u001b[43margs\u001b[49m\u001b[43m,\u001b[49m\u001b[43m \u001b[49m\u001b[43m*\u001b[49m\u001b[43m*\u001b[49m\u001b[43mkwargs\u001b[49m\u001b[43m)\u001b[49m\n\u001b[32m   1752\u001b[39m result = \u001b[38;5;28;01mNone\u001b[39;00m\n\u001b[32m   1753\u001b[39m called_always_called_hooks = \u001b[38;5;28mset\u001b[39m()\n",
      "\u001b[36mFile \u001b[39m\u001b[32mc:\\Users\\User\\Desktop\\DLT-1st-Cw\\music-classification\\Lib\\site-packages\\torch\\nn\\modules\\conv.py:554\u001b[39m, in \u001b[36mConv2d.forward\u001b[39m\u001b[34m(self, input)\u001b[39m\n\u001b[32m    553\u001b[39m \u001b[38;5;28;01mdef\u001b[39;00m\u001b[38;5;250m \u001b[39m\u001b[34mforward\u001b[39m(\u001b[38;5;28mself\u001b[39m, \u001b[38;5;28minput\u001b[39m: Tensor) -> Tensor:\n\u001b[32m--> \u001b[39m\u001b[32m554\u001b[39m     \u001b[38;5;28;01mreturn\u001b[39;00m \u001b[38;5;28;43mself\u001b[39;49m\u001b[43m.\u001b[49m\u001b[43m_conv_forward\u001b[49m\u001b[43m(\u001b[49m\u001b[38;5;28;43minput\u001b[39;49m\u001b[43m,\u001b[49m\u001b[43m \u001b[49m\u001b[38;5;28;43mself\u001b[39;49m\u001b[43m.\u001b[49m\u001b[43mweight\u001b[49m\u001b[43m,\u001b[49m\u001b[43m \u001b[49m\u001b[38;5;28;43mself\u001b[39;49m\u001b[43m.\u001b[49m\u001b[43mbias\u001b[49m\u001b[43m)\u001b[49m\n",
      "\u001b[36mFile \u001b[39m\u001b[32mc:\\Users\\User\\Desktop\\DLT-1st-Cw\\music-classification\\Lib\\site-packages\\torch\\nn\\modules\\conv.py:549\u001b[39m, in \u001b[36mConv2d._conv_forward\u001b[39m\u001b[34m(self, input, weight, bias)\u001b[39m\n\u001b[32m    537\u001b[39m \u001b[38;5;28;01mif\u001b[39;00m \u001b[38;5;28mself\u001b[39m.padding_mode != \u001b[33m\"\u001b[39m\u001b[33mzeros\u001b[39m\u001b[33m\"\u001b[39m:\n\u001b[32m    538\u001b[39m     \u001b[38;5;28;01mreturn\u001b[39;00m F.conv2d(\n\u001b[32m    539\u001b[39m         F.pad(\n\u001b[32m    540\u001b[39m             \u001b[38;5;28minput\u001b[39m, \u001b[38;5;28mself\u001b[39m._reversed_padding_repeated_twice, mode=\u001b[38;5;28mself\u001b[39m.padding_mode\n\u001b[32m   (...)\u001b[39m\u001b[32m    547\u001b[39m         \u001b[38;5;28mself\u001b[39m.groups,\n\u001b[32m    548\u001b[39m     )\n\u001b[32m--> \u001b[39m\u001b[32m549\u001b[39m \u001b[38;5;28;01mreturn\u001b[39;00m \u001b[43mF\u001b[49m\u001b[43m.\u001b[49m\u001b[43mconv2d\u001b[49m\u001b[43m(\u001b[49m\n\u001b[32m    550\u001b[39m \u001b[43m    \u001b[49m\u001b[38;5;28;43minput\u001b[39;49m\u001b[43m,\u001b[49m\u001b[43m \u001b[49m\u001b[43mweight\u001b[49m\u001b[43m,\u001b[49m\u001b[43m \u001b[49m\u001b[43mbias\u001b[49m\u001b[43m,\u001b[49m\u001b[43m \u001b[49m\u001b[38;5;28;43mself\u001b[39;49m\u001b[43m.\u001b[49m\u001b[43mstride\u001b[49m\u001b[43m,\u001b[49m\u001b[43m \u001b[49m\u001b[38;5;28;43mself\u001b[39;49m\u001b[43m.\u001b[49m\u001b[43mpadding\u001b[49m\u001b[43m,\u001b[49m\u001b[43m \u001b[49m\u001b[38;5;28;43mself\u001b[39;49m\u001b[43m.\u001b[49m\u001b[43mdilation\u001b[49m\u001b[43m,\u001b[49m\u001b[43m \u001b[49m\u001b[38;5;28;43mself\u001b[39;49m\u001b[43m.\u001b[49m\u001b[43mgroups\u001b[49m\n\u001b[32m    551\u001b[39m \u001b[43m\u001b[49m\u001b[43m)\u001b[49m\n",
      "\u001b[31mKeyboardInterrupt\u001b[39m: "
     ]
    }
   ],
   "source": [
    "model = Net3()\n",
    "optimizer = torch.optim.Adam(model.parameters(), lr=0.001)\n",
    "loss_fn = nn.CrossEntropyLoss()\n",
    "\n",
    "train(model, train_loader, val_loader, optimizer, loss_fn, epochs=50)"
   ]
  }
 ],
 "metadata": {
  "kernelspec": {
   "display_name": "music-classification",
   "language": "python",
   "name": "python3"
  },
  "language_info": {
   "codemirror_mode": {
    "name": "ipython",
    "version": 3
   },
   "file_extension": ".py",
   "mimetype": "text/x-python",
   "name": "python",
   "nbconvert_exporter": "python",
   "pygments_lexer": "ipython3",
   "version": "3.12.7"
  }
 },
 "nbformat": 4,
 "nbformat_minor": 5
}
